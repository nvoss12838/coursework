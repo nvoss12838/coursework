{
 "cells": [
  {
   "cell_type": "markdown",
   "metadata": {},
   "source": [
    "#Excersize 1 \n",
    "Nick Voss\n",
    "\n",
    "##Question 1 \n",
    "\n",
    "###Ultra Sound Velocities\n",
    "\n",
    "We need to know the ultrasound velocities of each brick for a wall with 4 square bricks of side Δx as in figure below:\n"
   ]
  },
  {
   "cell_type": "code",
   "execution_count": 1,
   "metadata": {
    "collapsed": false
   },
   "outputs": [
    {
     "data": {
      "image/png": "[encoded data removed]",
      "text/plain": [
       "<IPython.core.display.Image object>"
      ]
     },
     "execution_count": 1,
     "metadata": {},
     "output_type": "execute_result"
    }
   ],
   "source": [
    "from IPython.display import Image\n",
    "Image('e1_q1.png')"
   ]
  },
  {
   "cell_type": "markdown",
   "metadata": {},
   "source": [
    "In order to do this we place an ultrasound source at the point A and a receiver at the position A’ and we measure the total travel time $\\Delta t1$ from A to A’. We then repeat the measurement between B and B’, C and C’, and D and D’."
   ]
  },
  {
   "cell_type": "code",
   "execution_count": 2,
   "metadata": {
    "collapsed": true
   },
   "outputs": [],
   "source": [
    "#draw figure below "
   ]
  },
  {
   "cell_type": "markdown",
   "metadata": {},
   "source": [
    "Assuming as quantitative model the definition of velocity v=Δx/Δt (think in term of slowness, i.e. the inverse of velocity):\n",
    "\n",
    "####1) What are your model parameters and what are your observations? Write these in terms of vectors d and m. (Where d is the observation vector, m is the model parameter vector)\n"
   ]
  },
  {
   "cell_type": "markdown",
   "metadata": {},
   "source": [
    "The observations are the time difference $\\Delta t$ from source to reciever:\n",
    "\\begin{equation}\n",
    "     d=\\begin{bmatrix}\n",
    "         \\Delta t_A \\\\\n",
    "         \\Delta t_B \\\\\n",
    "         \\Delta t_C\\\\\n",
    "         \\Delta t_D\n",
    "        \\end{bmatrix}\n",
    "\\end{equation}\n",
    "\n",
    "The model paramaters are the velocities of each block,  $v = \\Delta x / \\Delta t$, or in terms of slowness $\\bar{s} = \\Delta t / \\Delta x $ in terms of vectors:\n",
    "\\begin{equation}\n",
    "    m =  \n",
    "    \\begin{bmatrix}\n",
    "         \\bar{s}_1 \\\\\n",
    "         \\bar{s}_2 \\\\\n",
    "         \\bar{s}_3 \\\\\n",
    "         \\bar{s}_4\n",
    "    \\end{bmatrix}\n",
    "\\end{equation}"
   ]
  },
  {
   "cell_type": "markdown",
   "metadata": {},
   "source": [
    "####2) Write the problem in terms of a system of equations relating the observations and the parameters."
   ]
  },
  {
   "cell_type": "markdown",
   "metadata": {},
   "source": [
    "$$ \\Delta t_A = \\Delta x \\bar{s}_1 + \\Delta x \\bar{s}_2 $$\n",
    "$$ \\Delta t_B = \\Delta x \\bar{s}_3 + \\Delta x \\bar{s}_4 $$\n",
    "$$ \\Delta t_C = \\Delta x \\bar{s}_1 + \\Delta x \\bar{s}_3 $$\n",
    "$$ \\Delta t_D = \\Delta x \\bar{s}_2 + \\Delta x \\bar{s}_4 $$"
   ]
  },
  {
   "cell_type": "markdown",
   "metadata": {},
   "source": [
    "####3) What are the dimensions of d G and m? (Where d is the observation vector, m is the model parameter vector and G the kernel matrix)."
   ]
  },
  {
   "cell_type": "markdown",
   "metadata": {},
   "source": [
    "$d$ is a 1 by 4\n",
    "\n",
    "$m$ is a 1 by 4 \n",
    "\n",
    "$G$ is a 4 x 4 "
   ]
  },
  {
   "cell_type": "markdown",
   "metadata": {},
   "source": [
    "#### 4) Write the problem in matrix form $d = Gm$\n"
   ]
  },
  {
   "cell_type": "markdown",
   "metadata": {},
   "source": [
    "\\begin{equation}\n",
    "    \\begin{bmatrix}\n",
    "         \\Delta t_A \\\\\n",
    "         \\Delta t_B \\\\\n",
    "         \\Delta t_C\\\\\n",
    "         \\Delta t_D\n",
    "    \\end{bmatrix}\n",
    "    = \n",
    "    \\Delta x\n",
    "    \\begin{bmatrix}\n",
    "       1 & 1 & 0 & 0 \\\\\n",
    "       0 & 0 & 1 & 1 \\\\\n",
    "       1 & 0 & 1 & 0 \\\\\n",
    "       0 & 1 & 0 & 1 \n",
    "    \\end{bmatrix}\n",
    "    \\begin{bmatrix}\n",
    "         \\bar{s}_1 \\\\\n",
    "         \\bar{s}_2 \\\\\n",
    "         \\bar{s}_3 \\\\\n",
    "         \\bar{s}_4\n",
    "    \\end{bmatrix}\n",
    "\\end{equation}"
   ]
  },
  {
   "cell_type": "markdown",
   "metadata": {},
   "source": [
    "#### 5) Write $G^T$, $(G^T G)^{-1}$, and the Least square solution in terms of $m=(G^T G)^{-1} G^T d$."
   ]
  },
  {
   "cell_type": "markdown",
   "metadata": {},
   "source": [
    "$$G^T =     \n",
    "\\begin{bmatrix}\n",
    "       1 & 0 & 1 & 0 \\\\\n",
    "       1 & 0 & 0 & 1 \\\\\n",
    "       0 & 1 & 1 & 0 \\\\\n",
    "       0 & 1 & 0 & 1 \n",
    "    \\end{bmatrix} $$"
   ]
  },
  {
   "cell_type": "markdown",
   "metadata": {
    "collapsed": true
   },
   "source": [
    "$$G^T G = \n",
    "\\begin{bmatrix}\n",
    "       1 & 0 & 1 & 0 \\\\\n",
    "       1 & 0 & 0 & 1 \\\\\n",
    "       0 & 1 & 1 & 0 \\\\\n",
    "       0 & 1 & 0 & 1 \n",
    "    \\end{bmatrix}\n",
    "    \\begin{bmatrix}\n",
    "       1 & 1 & 0 & 0 \\\\\n",
    "       0 & 0 & 1 & 1 \\\\\n",
    "       1 & 0 & 1 & 0 \\\\\n",
    "       0 & 1 & 0 & 1 \n",
    "    \\end{bmatrix}\n",
    "$$"
   ]
  },
  {
   "cell_type": "code",
   "execution_count": null,
   "metadata": {
    "collapsed": true
   },
   "outputs": [],
   "source": []
  }
 ],
 "metadata": {
  "kernelspec": {
   "display_name": "Python 2",
   "language": "python",
   "name": "python2"
  },
  "language_info": {
   "codemirror_mode": {
    "name": "ipython",
    "version": 2
   },
   "file_extension": ".py",
   "mimetype": "text/x-python",
   "name": "python",
   "nbconvert_exporter": "python",
   "pygments_lexer": "ipython2",
   "version": "2.7.10"
  }
 },
 "nbformat": 4,
 "nbformat_minor": 0
}
